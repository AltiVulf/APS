{
 "cells": [
  {
   "cell_type": "markdown",
   "id": "ee96543b-84e4-47a9-9505-3c5c51514c68",
   "metadata": {},
   "source": [
    "<img src=\"./logo_UNSAM.jpg\" align=\"right\" width=\"150\" /> \n",
    "\n",
    "#### Análisis y Procesamiento de Señales\n",
    "\n",
    "# Trabajo Práctico Semanal Nº5 - TS5\n",
    "#### Tomás Altimare Bercovich"
   ]
  },
  {
   "cell_type": "markdown",
   "id": "02c33ea9-131c-4919-91a8-97ca4156b491",
   "metadata": {},
   "source": [
    "# Nota: El informe se encuentra sin terminar."
   ]
  },
  {
   "cell_type": "markdown",
   "id": "9b42b7e1-7204-463c-828a-72d386928f57",
   "metadata": {
    "jp-MarkdownHeadingCollapsed": true
   },
   "source": [
    "# Resumen\n"
   ]
  },
  {
   "cell_type": "markdown",
   "id": "00241e9f-06b0-45f1-ac09-69b979b557a8",
   "metadata": {},
   "source": [
    "# Introducción Teórica\n"
   ]
  },
  {
   "cell_type": "markdown",
   "id": "efb84b70-b72a-41e9-94d9-7c2ded61abd4",
   "metadata": {},
   "source": [
    "# Análisis y Desarrollo\n"
   ]
  },
  {
   "cell_type": "markdown",
   "id": "ed9bcd12-82b3-4917-aba8-2c6c1c2cee2f",
   "metadata": {},
   "source": [
    "# Conclusión\n"
   ]
  },
  {
   "cell_type": "markdown",
   "id": "a5d26f81-903e-41c0-839f-ad874baf11f9",
   "metadata": {},
   "source": [
    "# Autoevaluación del Desarrollo\n"
   ]
  },
  {
   "cell_type": "markdown",
   "id": "011e71cb-c262-403b-ae53-523f61e73e48",
   "metadata": {},
   "source": [
    "# Bilbiografía\n",
    "# Codigo Completo"
   ]
  },
  {
   "cell_type": "code",
   "execution_count": 1,
   "id": "cc116cb2-f677-4e42-8ca2-ece90b2ed1a2",
   "metadata": {},
   "outputs": [
    {
     "ename": "FileNotFoundError",
     "evalue": "[Errno 2] No such file or directory: 'ecg_sin_ruido.npy'",
     "output_type": "error",
     "traceback": [
      "\u001b[31m---------------------------------------------------------------------------\u001b[39m",
      "\u001b[31mFileNotFoundError\u001b[39m                         Traceback (most recent call last)",
      "\u001b[36mCell\u001b[39m\u001b[36m \u001b[39m\u001b[32mIn[1]\u001b[39m\u001b[32m, line 110\u001b[39m\n\u001b[32m    107\u001b[39m     plt.legend()\n\u001b[32m    108\u001b[39m     plt.tight_layout()\n\u001b[32m--> \u001b[39m\u001b[32m110\u001b[39m \u001b[43mplot_ECG_sin_ruido\u001b[49m\u001b[43m(\u001b[49m\u001b[43m)\u001b[49m\n\u001b[32m    112\u001b[39m \u001b[38;5;66;03m# %% ECG con ruido\u001b[39;00m\n\u001b[32m    113\u001b[39m mat_struct = sio.loadmat(\u001b[33m'\u001b[39m\u001b[33m./ECG_TP4.mat\u001b[39m\u001b[33m'\u001b[39m)\n",
      "\u001b[36mCell\u001b[39m\u001b[36m \u001b[39m\u001b[32mIn[1]\u001b[39m\u001b[32m, line 57\u001b[39m, in \u001b[36mplot_ECG_sin_ruido\u001b[39m\u001b[34m()\u001b[39m\n\u001b[32m     56\u001b[39m \u001b[38;5;28;01mdef\u001b[39;00m\u001b[38;5;250m \u001b[39m\u001b[34mplot_ECG_sin_ruido\u001b[39m():\n\u001b[32m---> \u001b[39m\u001b[32m57\u001b[39m     ECG_sin_ruido = \u001b[43mnp\u001b[49m\u001b[43m.\u001b[49m\u001b[43mload\u001b[49m\u001b[43m(\u001b[49m\u001b[33;43m'\u001b[39;49m\u001b[33;43mecg_sin_ruido.npy\u001b[39;49m\u001b[33;43m'\u001b[39;49m\u001b[43m)\u001b[49m\n\u001b[32m     58\u001b[39m     ff_P_ECG_SR, P_ECG_SR = periodogram(ECG_sin_ruido, fs = fs)\n\u001b[32m     60\u001b[39m     cant_promedio = \u001b[32m20\u001b[39m \u001b[38;5;66;03m# Cada cuantos sampleos promedio (a mayor valor, menor resolución)\u001b[39;00m\n",
      "\u001b[36mFile \u001b[39m\u001b[32m/Library/Frameworks/Python.framework/Versions/3.13/lib/python3.13/site-packages/numpy/lib/_npyio_impl.py:454\u001b[39m, in \u001b[36mload\u001b[39m\u001b[34m(file, mmap_mode, allow_pickle, fix_imports, encoding, max_header_size)\u001b[39m\n\u001b[32m    452\u001b[39m     own_fid = \u001b[38;5;28;01mFalse\u001b[39;00m\n\u001b[32m    453\u001b[39m \u001b[38;5;28;01melse\u001b[39;00m:\n\u001b[32m--> \u001b[39m\u001b[32m454\u001b[39m     fid = stack.enter_context(\u001b[38;5;28;43mopen\u001b[39;49m\u001b[43m(\u001b[49m\u001b[43mos\u001b[49m\u001b[43m.\u001b[49m\u001b[43mfspath\u001b[49m\u001b[43m(\u001b[49m\u001b[43mfile\u001b[49m\u001b[43m)\u001b[49m\u001b[43m,\u001b[49m\u001b[43m \u001b[49m\u001b[33;43m\"\u001b[39;49m\u001b[33;43mrb\u001b[39;49m\u001b[33;43m\"\u001b[39;49m\u001b[43m)\u001b[49m)\n\u001b[32m    455\u001b[39m     own_fid = \u001b[38;5;28;01mTrue\u001b[39;00m\n\u001b[32m    457\u001b[39m \u001b[38;5;66;03m# Code to distinguish from NumPy binary files and pickles.\u001b[39;00m\n",
      "\u001b[31mFileNotFoundError\u001b[39m: [Errno 2] No such file or directory: 'ecg_sin_ruido.npy'"
     ]
    }
   ],
   "source": [
    "#%% Importo los módulos y bibliotecas que voy a utilizar\n",
    "import numpy as np\n",
    "import matplotlib.pyplot as plt\n",
    "from numpy.fft import fft, fftshift\n",
    "from scipy import signal as sig \n",
    "import scipy.io as sio\n",
    "import scipy.signal.windows as window\n",
    "from scipy.signal import periodogram\n",
    "from scipy.io.wavfile import write\n",
    "# import sounddevice as sd # Sirve para escuchar archivos de audio\n",
    "# import lectura_sigs as lsigs # Importo las señales de ECG, PPG y .WAV\n",
    "\n",
    "#%%########################\n",
    "## Definiciones Globales ##\n",
    "###########################\n",
    "\n",
    "fs = 1000 # Frecuencia de sampleo\n",
    "N = 1000 # Cantidad de muestras\n",
    "ts = 1/fs # Tiempo entre muestras\n",
    "T_simulacion = N/fs # Tiempo total de simulación\n",
    "n = np.arange(N) # Las N muestras equiespaciadas\n",
    "\n",
    "#%%#########################\n",
    "## Funciones del Programa ##\n",
    "############################\n",
    "\n",
    "\"\"\"Función para imprimir en dB\"\"\"\n",
    "def dB(X):  \n",
    "    X_shift = fftshift(X) # Armo la FFT centrada\n",
    "    X_abs = np.abs(X_shift) # Armo el módulo de la FFT (PSD)(la densidad espectral)\n",
    "    X_max = np.max(X_abs) if np.max(X_abs)>0 else 1 # Calculo el máximo de la funcion para poder trasladar las funciones al mismo eje\n",
    "    return 20 * np.log10(X_abs / X_max)\n",
    "\n",
    "\"\"\"Función para hacer Zero Padding\"\"\"\n",
    "def zero_padding(sig, n_zeros = 9): \n",
    "    Nsig = len(sig)\n",
    "    padded = np.concatenate([sig, np.zeros(n_zeros * Nsig)]) # Relleno padded con n cantidad de ceros\n",
    "    return fft(padded) # Armo la densidad espectral con la fft\n",
    "\n",
    "def estimar_BW(PSD, ff, cota = 0.98):\n",
    "    energia_acumulada = np.cumsum(PSD) # El ultimo valor del vector contiene la suma de todos los anteriores (integral de toda la curva)\n",
    "    energia_acumulada_normalizada = energia_acumulada / energia_acumulada[-1] # De tamaño (nperseg, 1)\n",
    "    corte = energia_acumulada_normalizada[-1] * cota\n",
    "    elementos_discriminados = int (np.where(energia_acumulada_normalizada >= corte)[0][0]) # cota es el porcentaje que determina los valores que me quiero quedar de la señal (ej.: cota = 0.99)\n",
    "    frec_BW = ff[elementos_discriminados]\n",
    "    return frec_BW\n",
    "    \n",
    "\n",
    "#%%############\n",
    "## Punto (1) ##\n",
    "###############\n",
    "# %% Definiciones previas\n",
    "flattop = window.flattop(N)\n",
    "\n",
    "# %% ECG sin Ruido\n",
    "def plot_ECG_sin_ruido():\n",
    "    ECG_sin_ruido = np.load('ecg_sin_ruido.npy')\n",
    "    ff_P_ECG_SR, P_ECG_SR = periodogram(ECG_sin_ruido, fs = fs)\n",
    "    \n",
    "    cant_promedio = 20 # Cada cuantos sampleos promedio (a mayor valor, menor resolución)\n",
    "    nperseg = ECG_sin_ruido.shape[0] // cant_promedio\n",
    "    zpadding = nperseg * 5\n",
    "    \n",
    "    ff_SR, Welch_ECG_SR = sig.welch(ECG_sin_ruido, fs = fs, window = 'hann', nperseg = nperseg)\n",
    "    ff_ZP_SR, ZP_Welch_ECG_SR = sig.welch(ECG_sin_ruido, fs = fs, window = 'hann', nperseg = nperseg, nfft = zpadding)\n",
    "    \n",
    "    BW = estimar_BW(ZP_Welch_ECG_SR, ff_ZP_SR, cota = 0.98)\n",
    "    print(f'\\nAncho de Banda ECG sin Ruido: {BW}')\n",
    "    \n",
    "    plt.figure(1)\n",
    "    plt.title('Figura 1: ECG sin ruido')\n",
    "    plt.grid(True)\n",
    "    plt.plot(ECG_sin_ruido, color = 'teal', label = 'ECG sin ruido')\n",
    "    plt.xlim(0, len(ECG_sin_ruido))\n",
    "    plt.xlabel(\"Sampleos\")\n",
    "    plt.ylabel(\"Amplitud\")\n",
    "    plt.legend()\n",
    "    plt.tight_layout()\n",
    "    \n",
    "    plt.figure(2)\n",
    "    plt.title('Figura 2: ECG sin ruido - Periodograma')\n",
    "    plt.grid(True)\n",
    "    plt.plot(ff_P_ECG_SR, P_ECG_SR, color = 'teal', label = 'ECG sin ruido - Periodograma')\n",
    "    plt.xlim(0, 40)\n",
    "    plt.xlabel(\"Frecuencia [Hz]\")\n",
    "    plt.ylabel(\"|X|\\u00b2 [dB]\")\n",
    "    plt.legend()\n",
    "    plt.tight_layout()\n",
    "    \n",
    "    plt.figure(3)\n",
    "    plt.title('Figura 3: ECG sin ruido - Método de Welch')\n",
    "    plt.grid(True)\n",
    "    plt.plot(ff_SR, Welch_ECG_SR, color = 'teal', label = 'ECG sin ruido')\n",
    "    plt.xlim(0, 40)\n",
    "    plt.xlabel(\"Frecuencia [Hz]\")\n",
    "    plt.ylabel(\"|X|\\u00b2 [dB]\")\n",
    "    plt.legend()\n",
    "    plt.tight_layout()\n",
    "    \n",
    "    plt.figure(4)\n",
    "    plt.title('Figura 4: ECG sin ruido con Zero Padding - Método de Welch')\n",
    "    plt.grid(True)\n",
    "    plt.plot(ff_ZP_SR, ZP_Welch_ECG_SR, color = 'teal', label = 'ECG sin ruido')\n",
    "    plt.xlim(0, 40)\n",
    "    plt.xlabel(\"Frecuencia [Hz]\")\n",
    "    plt.ylabel(\"|X|\\u00b2 [dB]\")\n",
    "    plt.legend()\n",
    "    plt.tight_layout()\n",
    "    \n",
    "plot_ECG_sin_ruido()\n",
    "\n",
    "# %% ECG con ruido\n",
    "mat_struct = sio.loadmat('./ECG_TP4.mat')\n",
    "ECG_con_ruido1 = mat_struct['ecg_lead']\n",
    "\n",
    "# %% PPG sin ruido\n",
    "def plot_PPG_sin_ruido():\n",
    "    fs_PPG = 400\n",
    "    \n",
    "    PPG = np.genfromtxt('PPG.csv', delimiter=',', skip_header=1)  # Omitir la cabecera si existe\n",
    "    ff_P_PPG, P_PPG = periodogram(PPG, fs = fs_PPG)\n",
    "\n",
    "    cant_promedio = 40 # Cada cuantos sampleos promedio (a mayor valor, menor resolución)\n",
    "    nperseg = PPG.shape[0] // cant_promedio\n",
    "    zpadding = nperseg * 5\n",
    "    \n",
    "    ff_PPG, Welch_PPG = sig.welch(PPG, fs = fs_PPG, window = 'hann', nperseg = nperseg)\n",
    "    ff_ZP_PPG, ZP_Welch_PPG = sig.welch(PPG, fs = fs_PPG, window = 'hann', nperseg = nperseg, nfft = zpadding)\n",
    "    \n",
    "    BW = estimar_BW(ZP_Welch_PPG, ff_ZP_PPG, cota = 0.98)\n",
    "    print(f'\\nAncho de Banda PPG sin Ruido: {BW}')\n",
    "    \n",
    "    plt.figure(5)\n",
    "    plt.title('Figura 5: PPG sin ruido')\n",
    "    plt.grid(True)\n",
    "    plt.plot(PPG, color = 'teal', label = 'PPG sin ruido')\n",
    "    plt.xlim(0, len(PPG))\n",
    "    plt.xlabel(\"Sampleos\")\n",
    "    plt.ylabel(\"Amplitud\")\n",
    "    plt.legend()\n",
    "    plt.tight_layout()\n",
    "    \n",
    "    plt.figure(6)\n",
    "    plt.title('Figura 6: PPG sin ruido - Periodograma')\n",
    "    plt.grid(True)\n",
    "    plt.plot(ff_P_PPG, P_PPG, color = 'teal', label = 'PPG sin ruido - Periodograma')\n",
    "    plt.xlim(0, 0.05)\n",
    "    plt.xlabel(\"Frecuencia [Hz]\")\n",
    "    plt.ylabel(\"|X|\\u00b2 [dB]\")\n",
    "    plt.legend()\n",
    "    plt.tight_layout()\n",
    "    \n",
    "    plt.figure(7)\n",
    "    plt.title('Figura 7: PPG sin ruido - Método de Welch')\n",
    "    plt.grid(True)\n",
    "    plt.plot(ff_PPG, Welch_PPG, color = 'teal', label = 'PPG sin ruido')\n",
    "    plt.xlim(0, 5)\n",
    "    plt.xlabel(\"Frecuencia [Hz]\")\n",
    "    plt.ylabel(\"|X|\\u00b2 [dB]\")\n",
    "    plt.legend()\n",
    "    plt.tight_layout()\n",
    "    \n",
    "    plt.figure(8)\n",
    "    plt.title('Figura 8: PPG sin ruido con Zero Padding - Método de Welch')\n",
    "    plt.grid(True)\n",
    "    plt.plot(ff_ZP_PPG, ZP_Welch_PPG, color = 'teal', label = 'PPG sin ruido')\n",
    "    plt.xlim(0, 5)\n",
    "    plt.xlabel(\"Frecuencia [Hz]\")\n",
    "    plt.ylabel(\"|X|\\u00b2 [dB]\")\n",
    "    plt.legend()\n",
    "    plt.tight_layout()\n",
    "    \n",
    "plot_PPG_sin_ruido()"
   ]
  },
  {
   "cell_type": "markdown",
   "id": "e3cf0eb4-245b-465c-a08e-88e82c5f8b0b",
   "metadata": {},
   "source": [
    "# Anexo\n"
   ]
  }
 ],
 "metadata": {
  "kernelspec": {
   "display_name": "Python 3 (ipykernel)",
   "language": "python",
   "name": "python3"
  },
  "language_info": {
   "codemirror_mode": {
    "name": "ipython",
    "version": 3
   },
   "file_extension": ".py",
   "mimetype": "text/x-python",
   "name": "python",
   "nbconvert_exporter": "python",
   "pygments_lexer": "ipython3",
   "version": "3.13.6"
  }
 },
 "nbformat": 4,
 "nbformat_minor": 5
}
